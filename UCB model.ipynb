{
 "cells": [
  {
   "cell_type": "code",
   "execution_count": 2,
   "id": "f96eb9ac-47b2-4007-bd78-5b626b2acef2",
   "metadata": {},
   "outputs": [],
   "source": [
    "import numpy as np\n",
    "import matplotlib.pyplot as plt\n",
    "import pandas as pd"
   ]
  },
  {
   "cell_type": "code",
   "execution_count": 3,
   "id": "dfba74b4-93e0-4867-961f-d1292cc61934",
   "metadata": {},
   "outputs": [],
   "source": [
    "dataset= pd.read_csv('Ads_CTR_Optimisation.csv')"
   ]
  },
  {
   "cell_type": "code",
   "execution_count": 5,
   "id": "45347e17-12fe-4795-89dc-b6c2e3f266a6",
   "metadata": {},
   "outputs": [],
   "source": [
    "import math\n",
    "N= 10000\n",
    "d= 10\n",
    "ads_selected=[]\n",
    "numbers_of_selections= [0]*d\n",
    "sum_of_rewards= [0]*d\n",
    "total_rewards= 0\n",
    "for i in range(0,N):\n",
    "    ads=0\n",
    "    max_upper_bounds=0\n",
    "    for j in range(0,d):\n",
    "        if(numbers_of_selections[j]>0):\n",
    "            avg_reward= sum_of_rewards[j]/numbers_of_selections[j]\n",
    "            delta_i=math.sqrt(3/2* math.log(i+1)/numbers_of_selections[j])\n",
    "            upper_bound= avg_reward+delta_i\n",
    "        else:\n",
    "            upper_bound= 1e400\n",
    "        if(upper_bound>max_upper_bounds):\n",
    "            max_upper_bounds=upper_bound\n",
    "            ads=j\n",
    "        ads_selected.append(ads)\n",
    "        numbers_of_selections[ads]+= 1\n",
    "        rewards= dataset.values[i,ads]\n",
    "        sum_of_rewards[ads]=sum_of_rewards[ads]+rewards\n",
    "        total_rewards= total_rewards+rewards\n",
    "        \n",
    "        "
   ]
  },
  {
   "cell_type": "code",
   "execution_count": 9,
   "id": "c46f056c-dfa4-4d61-b8bf-58c5ed16daaa",
   "metadata": {},
   "outputs": [
    {
     "data": {
      "image/png": "[encoded data removed]",
      "text/plain": [
       "<Figure size 640x480 with 1 Axes>"
      ]
     },
     "metadata": {},
     "output_type": "display_data"
    }
   ],
   "source": [
    "plt.hist(numbers_of_selections)\n",
    "plt.show()"
   ]
  },
  {
   "cell_type": "code",
   "execution_count": null,
   "id": "a8c64ebf-cff1-45af-a15f-197c1f8156d7",
   "metadata": {},
   "outputs": [],
   "source": []
  }
 ],
 "metadata": {
  "kernelspec": {
   "display_name": "Python 3 (ipykernel)",
   "language": "python",
   "name": "python3"
  },
  "language_info": {
   "codemirror_mode": {
    "name": "ipython",
    "version": 3
   },
   "file_extension": ".py",
   "mimetype": "text/x-python",
   "name": "python",
   "nbconvert_exporter": "python",
   "pygments_lexer": "ipython3",
   "version": "3.11.5"
  }
 },
 "nbformat": 4,
 "nbformat_minor": 5
}
